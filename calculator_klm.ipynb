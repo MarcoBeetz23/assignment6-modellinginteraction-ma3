{
 "cells": [
  {
   "cell_type": "markdown",
   "id": "f6657e10",
   "metadata": {},
   "source": [
    "# KLM operators for our calculator\n",
    "\n",
    "First we divide our interaction into two groups - keyboard and mouse. We use a real physical mouse and not the touchpad. With lots and lots of possibilites to combine mouse and keyboard within the calculation we focus on three typical scenarios\n",
    "\n",
    "-  Using keyboard only\n",
    "-  Using mouse only\n",
    "-  Using keyboard to select digits and mouse to select arithmetic operations\n",
    "\n",
    "We start our experiment with the mouse in the middle of our screen and both hands on the keyboard. We conducted the experiment by ourself and extracted the raw data from stdout to csv. Let's get going!"
   ]
  },
  {
   "cell_type": "code",
   "execution_count": 2,
   "id": "bad11c18",
   "metadata": {},
   "outputs": [],
   "source": [
    "import numpy as np\n",
    "import pandas as pd\n",
    "import datetime as dt"
   ]
  },
  {
   "cell_type": "markdown",
   "id": "ee655037",
   "metadata": {},
   "source": [
    "## Using keyboard only\n",
    "\n",
    "We sub-divide the keyboard tasks into three reasonable KLM operators:\n",
    "\n",
    "- (1) Pressing a single key (0,1,2,3,4,5,6,7,8,9,+,-)\n",
    "- (2) Pressing and holding shift to press a single key (*, /)\n",
    "- (3) Pressing a single key repeatedly (666, 55555)\n",
    "\n",
    "Let's get our data ready!"
   ]
  },
  {
   "cell_type": "code",
   "execution_count": 108,
   "id": "eea17949",
   "metadata": {},
   "outputs": [
    {
     "data": {
      "text/plain": [
       "0.25342900000000007"
      ]
     },
     "execution_count": 108,
     "metadata": {},
     "output_type": "execute_result"
    }
   ],
   "source": [
    "df1 = pd.read_csv('raw_data_6.2/press_single_key.csv')\n",
    "\n",
    "#some lists as placeholders to pass objects\n",
    "df1_timestamp_data = df1[\"timestamp\"].tolist()\n",
    "df1_seconds_data = []\n",
    "df1_delta_data = []\n",
    "\n",
    "#get seconds with milliseconds from each timestamp\n",
    "for i in range(len(data)):\n",
    "    timestamps = data[i]\n",
    "    seconds = timestamps[17:]\n",
    "    seconds = float(seconds)\n",
    "    df1_seconds_data.append(seconds)\n",
    "\n",
    "#get timedelta between keystrokes    \n",
    "for i in range(len(df1_seconds_data)):\n",
    "    delta = df1_seconds_data[i] - df1_seconds_data[i-1]\n",
    "    df1_delta_data.append(delta)\n",
    "\n",
    "    \n",
    "df1_delta_data.pop(0)\n",
    "\n",
    "np.mean(df1_delta_data)"
   ]
  },
  {
   "cell_type": "code",
   "execution_count": 109,
   "id": "778e269e",
   "metadata": {},
   "outputs": [
    {
     "data": {
      "text/plain": [
       "0.545387125"
      ]
     },
     "execution_count": 109,
     "metadata": {},
     "output_type": "execute_result"
    }
   ],
   "source": [
    "df2 = pd.read_csv('raw_data_6.2/press_shift_single_key.csv')\n",
    "\n",
    "df2_timestamp_data = df2[\"timestamp\"].tolist()\n",
    "df2_seconds_data = []\n",
    "df2_delta_data = []\n",
    "\n",
    "for i in range(len(df2_timestamp_data)):\n",
    "    timestamps = df2_timestamp_data[i]\n",
    "    seconds = timestamps[17:]\n",
    "    seconds = float(seconds)\n",
    "    df2_seconds_data.append(seconds)\n",
    "    \n",
    "for i in range(len(df2_seconds_data)):\n",
    "    delta = df2_seconds_data[i] - df2_seconds_data[i-1]\n",
    "    df2_delta_data.append(delta)\n",
    "\n",
    "df2_delta_data.pop(0)\n",
    "\n",
    "np.mean(df2_delta_data)"
   ]
  },
  {
   "cell_type": "code",
   "execution_count": 99,
   "id": "a5e03d25",
   "metadata": {},
   "outputs": [
    {
     "data": {
      "text/plain": [
       "0.2338534081632653"
      ]
     },
     "execution_count": 99,
     "metadata": {},
     "output_type": "execute_result"
    }
   ],
   "source": [
    "df3 = pd.read_csv('raw_data_6.2/press_single_key_multiple_times.csv')\n",
    "\n",
    "df3_timestamp_data = df3[\"timestamp\"].tolist()\n",
    "df3_seconds_data = []\n",
    "df3_delta_data = []\n",
    "\n",
    "for i in range(len(df3_timestamp_data)):\n",
    "    timestamps = df3_timestamp_data[i]\n",
    "    seconds = timestamps[17:]\n",
    "    seconds = float(seconds)\n",
    "    df3_seconds_data.append(seconds)\n",
    "\n",
    "for i in range(len(df3_seconds_data)):\n",
    "    delta = df3_seconds_data[i] - df3_seconds_data[i-1]\n",
    "    df3_delta_data.append(delta)\n",
    "    \n",
    "df3_delta_data.pop(0)\n",
    "\n",
    "np.mean(df3_delta_data)"
   ]
  },
  {
   "cell_type": "markdown",
   "id": "fb6432fe",
   "metadata": {},
   "source": []
  },
  {
   "cell_type": "markdown",
   "id": "2f3b4e00",
   "metadata": {},
   "source": [
    "## Using mouse only\n",
    "\n",
    "We sub-divide the mouse tasks into:\n",
    "\n",
    "- (1) clicking one digit after another\n",
    "- (2) clicking an arithmetic operator with a digit entered\n",
    "\n",
    "\n"
   ]
  },
  {
   "cell_type": "code",
   "execution_count": 5,
   "id": "54ae4827",
   "metadata": {},
   "outputs": [
    {
     "data": {
      "text/plain": [
       "0.5449099655172415"
      ]
     },
     "execution_count": 5,
     "metadata": {},
     "output_type": "execute_result"
    }
   ],
   "source": [
    "df4 = pd.read_csv('raw_data_6.2/click_single_digits.csv')\n",
    "\n",
    "df4_timestamp_data = df4[\"timestamp\"].tolist()\n",
    "df4_seconds_data = []\n",
    "df4_delta_data = []\n",
    "\n",
    "for i in range(len(df4_timestamp_data)):\n",
    "    timestamps = df4_timestamp_data[i]\n",
    "    seconds = timestamps[17:]\n",
    "    seconds = float(seconds)\n",
    "    df4_seconds_data.append(seconds)\n",
    "\n",
    "for i in range(len(df4_seconds_data)):\n",
    "    delta = df4_seconds_data[i] - df4_seconds_data[i-1]\n",
    "    df4_delta_data.append(delta)\n",
    "    \n",
    "df4_delta_data.pop(0)\n",
    "\n",
    "np.mean(df4_delta_data)"
   ]
  },
  {
   "cell_type": "code",
   "execution_count": 7,
   "id": "55f7757f",
   "metadata": {},
   "outputs": [
    {
     "data": {
      "text/plain": [
       "0.7094999545454548"
      ]
     },
     "execution_count": 7,
     "metadata": {},
     "output_type": "execute_result"
    }
   ],
   "source": [
    "df5 = pd.read_csv('raw_data_6.2/click_digit_with_arithmetic_operation.csv')\n",
    "\n",
    "df5_timestamp_data = df5[\"timestamp\"].tolist()\n",
    "df5_seconds_data = []\n",
    "df5_delta_data = []\n",
    "\n",
    "for i in range(len(df5_timestamp_data)):\n",
    "    timestamps = df5_timestamp_data[i]\n",
    "    seconds = timestamps[17:]\n",
    "    seconds = float(seconds)\n",
    "    df5_seconds_data.append(seconds)\n",
    "\n",
    "for i in range(len(df5_seconds_data)):\n",
    "    delta = df5_seconds_data[i] - df5_seconds_data[i-1]\n",
    "    df5_delta_data.append(delta)\n",
    "    \n",
    "df5_delta_data.pop(0)\n",
    "\n",
    "np.mean(df5_delta_data)"
   ]
  },
  {
   "cell_type": "markdown",
   "id": "d5b3468c",
   "metadata": {},
   "source": [
    "### Our KLM operator results\n",
    "\n",
    "For using keyboard only interaction techniques we conclude with:\n",
    "\n",
    "- pressing a single key uniquely : 0.25342900000000007\n",
    "- pressing a shift single key: 0.545387125\n",
    "- pressing a single key multiple times: 0.2338534081632653\n",
    "\n",
    "For using mouse only interaction techniques we conclude with:\n",
    "\n",
    "- clicking a single digit after a digit uniquely: 0.5449099655172415\n",
    "- clicking a single arithmetic operation after a digit: 0.7094999545454548"
   ]
  }
 ],
 "metadata": {
  "kernelspec": {
   "display_name": "Python 3",
   "language": "python",
   "name": "python3"
  },
  "language_info": {
   "codemirror_mode": {
    "name": "ipython",
    "version": 3
   },
   "file_extension": ".py",
   "mimetype": "text/x-python",
   "name": "python",
   "nbconvert_exporter": "python",
   "pygments_lexer": "ipython3",
   "version": "3.6.9"
  }
 },
 "nbformat": 4,
 "nbformat_minor": 5
}
